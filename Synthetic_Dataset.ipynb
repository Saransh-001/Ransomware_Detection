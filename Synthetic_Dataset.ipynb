{
  "nbformat": 4,
  "nbformat_minor": 0,
  "metadata": {
    "colab": {
      "provenance": []
    },
    "kernelspec": {
      "name": "python3",
      "display_name": "Python 3"
    },
    "language_info": {
      "name": "python"
    }
  },
  "cells": [
    {
      "cell_type": "code",
      "execution_count": null,
      "metadata": {
        "id": "hwnme4KBvFEq"
      },
      "outputs": [],
      "source": [
        "import pandas as pd\n",
        "import numpy as np"
      ]
    },
    {
      "cell_type": "code",
      "source": [
        "np.random.seed(42)\n",
        "num_records = 1000"
      ],
      "metadata": {
        "id": "YGYbrLA-vO0u"
      },
      "execution_count": null,
      "outputs": []
    },
    {
      "cell_type": "code",
      "source": [
        "heart_rate = np.random.randint(60, 100, size=num_records)\n",
        "respiratory_rate = np.random.randint(12, 25, size=num_records)\n",
        "o2_saturation = np.random.randint(90, 100, size=num_records)\n",
        "systolic_bp = np.random.randint(110, 140, size=num_records)\n",
        "diastolic_bp = np.random.randint(70, 90, size=num_records)"
      ],
      "metadata": {
        "id": "wHN3GEGNvYU8"
      },
      "execution_count": null,
      "outputs": []
    },
    {
      "cell_type": "code",
      "source": [
        "ransomware_infected = np.random.choice([0, 1], size=num_records, p=[0.9, 0.1])\n",
        "\n",
        "heart_rate = np.where(ransomware_infected == 1, np.nan, heart_rate)\n",
        "respiratory_rate = np.where(ransomware_infected == 1, np.nan, respiratory_rate)\n",
        "o2_saturation = np.where(ransomware_infected == 1, np.nan, o2_saturation)\n",
        "systolic_bp = np.where(ransomware_infected == 1, np.nan, systolic_bp)\n",
        "diastolic_bp = np.where(ransomware_infected == 1, np.nan, diastolic_bp)"
      ],
      "metadata": {
        "id": "Lw4NXxPjvbcm"
      },
      "execution_count": null,
      "outputs": []
    },
    {
      "cell_type": "code",
      "source": [
        "data = pd.DataFrame({\n",
        "    'heart_rate': heart_rate,\n",
        "    'respiratory_rate': respiratory_rate,\n",
        "    'o2_saturation': o2_saturation,\n",
        "    'systolic_bp': systolic_bp,\n",
        "    'diastolic_bp': diastolic_bp,\n",
        "    'label': ransomware_infected\n",
        "})"
      ],
      "metadata": {
        "id": "KIcTPkQfvwyt"
      },
      "execution_count": null,
      "outputs": []
    },
    {
      "cell_type": "code",
      "source": [
        "data.to_csv('synthetic_medical_data.csv', index=False)"
      ],
      "metadata": {
        "id": "b9ofQafsv0yc"
      },
      "execution_count": null,
      "outputs": []
    },
    {
      "cell_type": "code",
      "source": [
        "print(data.head(100))"
      ],
      "metadata": {
        "colab": {
          "base_uri": "https://localhost:8080/"
        },
        "id": "OFqf0C9tv3rZ",
        "outputId": "82e4bbea-e9ad-4050-f42a-211dd09797a1"
      },
      "execution_count": 8,
      "outputs": [
        {
          "output_type": "stream",
          "name": "stdout",
          "text": [
            "    heart_rate  respiratory_rate  o2_saturation  systolic_bp  diastolic_bp  \\\n",
            "0         98.0              19.0           93.0        121.0          73.0   \n",
            "1         88.0              20.0           91.0        126.0          82.0   \n",
            "2         74.0              17.0           91.0        116.0          76.0   \n",
            "3         67.0              22.0           98.0        118.0          73.0   \n",
            "4         80.0              18.0           94.0        112.0          84.0   \n",
            "..         ...               ...            ...          ...           ...   \n",
            "95        68.0              17.0           98.0        123.0          85.0   \n",
            "96         NaN               NaN            NaN          NaN           NaN   \n",
            "97        71.0              12.0           90.0        118.0          80.0   \n",
            "98        93.0              13.0           99.0        133.0          74.0   \n",
            "99        92.0              17.0           96.0        132.0          87.0   \n",
            "\n",
            "    label  \n",
            "0       0  \n",
            "1       0  \n",
            "2       0  \n",
            "3       0  \n",
            "4       0  \n",
            "..    ...  \n",
            "95      0  \n",
            "96      1  \n",
            "97      0  \n",
            "98      0  \n",
            "99      0  \n",
            "\n",
            "[100 rows x 6 columns]\n"
          ]
        }
      ]
    },
    {
      "cell_type": "code",
      "source": [],
      "metadata": {
        "id": "JxD1qchsv7Qy"
      },
      "execution_count": null,
      "outputs": []
    }
  ]
}